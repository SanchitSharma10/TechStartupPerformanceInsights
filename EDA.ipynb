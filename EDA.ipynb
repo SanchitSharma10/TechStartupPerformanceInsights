{
 "cells": [
  {
   "cell_type": "code",
   "execution_count": 1,
   "id": "8165c02d",
   "metadata": {},
   "outputs": [],
   "source": [
    "import pandas as pd"
   ]
  },
  {
   "cell_type": "code",
   "execution_count": 2,
   "id": "7dd31099",
   "metadata": {},
   "outputs": [],
   "source": [
    "import pandas_datareader as pdr"
   ]
  },
  {
   "cell_type": "code",
   "execution_count": 3,
   "id": "82075afc",
   "metadata": {},
   "outputs": [
    {
     "name": "stdout",
     "output_type": "stream",
     "text": [
      "Requirement already satisfied: pandas-datareader in c:\\users\\sanch\\miniconda3\\lib\\site-packages (0.10.0)\n",
      "Requirement already satisfied: conda in c:\\users\\sanch\\miniconda3\\lib\\site-packages (22.11.1)\n",
      "Requirement already satisfied: pandas>=0.23 in c:\\users\\sanch\\miniconda3\\lib\\site-packages (from pandas-datareader) (1.5.2)\n",
      "Requirement already satisfied: requests>=2.19.0 in c:\\users\\sanch\\miniconda3\\lib\\site-packages (from pandas-datareader) (2.28.1)\n",
      "Requirement already satisfied: lxml in c:\\users\\sanch\\miniconda3\\lib\\site-packages (from pandas-datareader) (4.9.1)\n",
      "Requirement already satisfied: pluggy>=1.0.0 in c:\\users\\sanch\\miniconda3\\lib\\site-packages (from conda) (1.0.0)\n",
      "Requirement already satisfied: pycosat>=0.6.3 in c:\\users\\sanch\\miniconda3\\lib\\site-packages (from conda) (0.6.4)\n",
      "Requirement already satisfied: ruamel.yaml>=0.11.14 in c:\\users\\sanch\\miniconda3\\lib\\site-packages (from conda) (0.17.21)\n",
      "Requirement already satisfied: tqdm>=4 in c:\\users\\sanch\\miniconda3\\lib\\site-packages (from conda) (4.64.1)\n",
      "Requirement already satisfied: menuinst in c:\\users\\sanch\\miniconda3\\lib\\site-packages (from conda) (1.4.19)\n",
      "Requirement already satisfied: pytz>=2020.1 in c:\\users\\sanch\\miniconda3\\lib\\site-packages (from pandas>=0.23->pandas-datareader) (2022.7)\n",
      "Requirement already satisfied: numpy>=1.21.0 in c:\\users\\sanch\\miniconda3\\lib\\site-packages (from pandas>=0.23->pandas-datareader) (1.24.1)\n",
      "Requirement already satisfied: python-dateutil>=2.8.1 in c:\\users\\sanch\\miniconda3\\lib\\site-packages (from pandas>=0.23->pandas-datareader) (2.8.2)\n",
      "Requirement already satisfied: idna<4,>=2.5 in c:\\users\\sanch\\miniconda3\\lib\\site-packages (from requests>=2.19.0->pandas-datareader) (3.4)\n",
      "Requirement already satisfied: urllib3<1.27,>=1.21.1 in c:\\users\\sanch\\miniconda3\\lib\\site-packages (from requests>=2.19.0->pandas-datareader) (1.26.13)\n",
      "Requirement already satisfied: charset-normalizer<3,>=2 in c:\\users\\sanch\\miniconda3\\lib\\site-packages (from requests>=2.19.0->pandas-datareader) (2.0.4)\n",
      "Requirement already satisfied: certifi>=2017.4.17 in c:\\users\\sanch\\miniconda3\\lib\\site-packages (from requests>=2.19.0->pandas-datareader) (2022.12.7)\n",
      "Requirement already satisfied: ruamel.yaml.clib>=0.2.6 in c:\\users\\sanch\\miniconda3\\lib\\site-packages (from ruamel.yaml>=0.11.14->conda) (0.2.6)\n",
      "Requirement already satisfied: colorama in c:\\users\\sanch\\miniconda3\\lib\\site-packages (from tqdm>=4->conda) (0.4.5)\n",
      "Requirement already satisfied: six>=1.5 in c:\\users\\sanch\\miniconda3\\lib\\site-packages (from python-dateutil>=2.8.1->pandas>=0.23->pandas-datareader) (1.16.0)\n",
      "Note: you may need to restart the kernel to use updated packages.\n"
     ]
    }
   ],
   "source": [
    "pip install pandas-datareader conda\n"
   ]
  },
  {
   "cell_type": "code",
   "execution_count": 4,
   "id": "f9ac7044",
   "metadata": {},
   "outputs": [
    {
     "ename": "SyntaxError",
     "evalue": "invalid syntax (2801725992.py, line 1)",
     "output_type": "error",
     "traceback": [
      "\u001b[1;36m  Cell \u001b[1;32mIn[4], line 1\u001b[1;36m\u001b[0m\n\u001b[1;33m    import pandas-datareader as pdr\u001b[0m\n\u001b[1;37m                 ^\u001b[0m\n\u001b[1;31mSyntaxError\u001b[0m\u001b[1;31m:\u001b[0m invalid syntax\n"
     ]
    }
   ],
   "source": [
    "import pandas-datareader as pdr"
   ]
  },
  {
   "cell_type": "code",
   "execution_count": null,
   "id": "30080ac2",
   "metadata": {},
   "outputs": [],
   "source": [
    "import pandas_datareader as pdr"
   ]
  },
  {
   "cell_type": "code",
   "execution_count": null,
   "id": "51e7499b",
   "metadata": {},
   "outputs": [],
   "source": [
    "1 + 1 ="
   ]
  },
  {
   "cell_type": "code",
   "execution_count": null,
   "id": "cb6fc092",
   "metadata": {},
   "outputs": [],
   "source": [
    "stock_data = pdr.get_data_yahoo('AAPL', '2020-01-01', '2020-12-31')"
   ]
  },
  {
   "cell_type": "code",
   "execution_count": null,
   "id": "fdd0ba27",
   "metadata": {},
   "outputs": [],
   "source": [
    "tickers = ['AAPL', 'GOOG', 'MSFT']\n",
    "stock_data = pdr.get_data_yahoo(tickers, '2020-01-01', '2020-12-31')"
   ]
  },
  {
   "cell_type": "code",
   "execution_count": null,
   "id": "f214598e",
   "metadata": {},
   "outputs": [],
   "source": [
    "print(data['AAPL'].get('2020-01-01').get('open'))"
   ]
  },
  {
   "cell_type": "code",
   "execution_count": null,
   "id": "3711aae6",
   "metadata": {},
   "outputs": [],
   "source": [
    "# The tech stocks we'll use for this analysis\n",
    "tech_list = ['AAPL','GOOG','MSFT','AMZN']\n",
    "\n",
    "# Set up End and Start times for data grab\n",
    "end = datetime.now()\n",
    "start = datetime(end.year - 1,end.month,end.day)\n",
    "\n",
    "\n",
    "#For loop for grabing iex finance data and setting as a dataframe\n",
    "\n",
    "for stock in tech_list:   \n",
    "    # Set DataFrame as the Stock Ticker\n",
    "    globals()[stock] = web.DataReader(stock,'iex',start,end)"
   ]
  },
  {
   "cell_type": "code",
   "execution_count": null,
   "id": "def1365b",
   "metadata": {},
   "outputs": [],
   "source": [
    "import datetime\n",
    "from pandas_datareader import data as pdr"
   ]
  },
  {
   "cell_type": "code",
   "execution_count": null,
   "id": "39ae1396",
   "metadata": {},
   "outputs": [],
   "source": [
    "start_date = datetime.datetime(2020, 1, 1)\n",
    "end_date = datetime.datetime(2022, 1, 1)"
   ]
  },
  {
   "cell_type": "code",
   "execution_count": null,
   "id": "621ba407",
   "metadata": {},
   "outputs": [],
   "source": [
    "aapl_data = pdr.get_data_yahoo('AAPL', start_date, end_date)"
   ]
  },
  {
   "cell_type": "code",
   "execution_count": null,
   "id": "76780fee",
   "metadata": {},
   "outputs": [],
   "source": [
    "import yfinance as yf"
   ]
  },
  {
   "cell_type": "code",
   "execution_count": null,
   "id": "bef9e1fa",
   "metadata": {},
   "outputs": [],
   "source": [
    "!pip install yfinance"
   ]
  },
  {
   "cell_type": "code",
   "execution_count": null,
   "id": "f44d6acd",
   "metadata": {},
   "outputs": [],
   "source": [
    "import yfinance as yf"
   ]
  },
  {
   "cell_type": "code",
   "execution_count": null,
   "id": "359a8d58",
   "metadata": {},
   "outputs": [],
   "source": [
    "import yfinance as yf"
   ]
  },
  {
   "cell_type": "code",
   "execution_count": null,
   "id": "b37c4a77",
   "metadata": {},
   "outputs": [],
   "source": [
    "!pip3 install yfinance"
   ]
  },
  {
   "cell_type": "code",
   "execution_count": null,
   "id": "daa17ead",
   "metadata": {},
   "outputs": [],
   "source": [
    "import yfinance as yf"
   ]
  },
  {
   "cell_type": "code",
   "execution_count": null,
   "id": "d5f67969",
   "metadata": {},
   "outputs": [],
   "source": [
    "import pandas as pd\n",
    "import datetime\n",
    "from pandas_datareader import data as pdr\n",
    "import yfinance as yf\n",
    "start_date = datetime.datetime(2020, 1, 1)\n",
    "end_date = datetime.datetime(2022, 1, 1)"
   ]
  },
  {
   "cell_type": "code",
   "execution_count": null,
   "id": "cb9622e4",
   "metadata": {},
   "outputs": [],
   "source": [
    "import yfinance as yf\n",
    "yf.pdr_override()\n",
    "y_symbols = ['MSFT']\n",
    "data = pdr.get_data_yahoo(y_symbols, start=startdate, end=enddate)"
   ]
  },
  {
   "cell_type": "code",
   "execution_count": 5,
   "id": "0752d6e7",
   "metadata": {},
   "outputs": [
    {
     "ename": "NameError",
     "evalue": "name 'startdate' is not defined",
     "output_type": "error",
     "traceback": [
      "\u001b[1;31m---------------------------------------------------------------------------\u001b[0m",
      "\u001b[1;31mNameError\u001b[0m                                 Traceback (most recent call last)",
      "Cell \u001b[1;32mIn[5], line 4\u001b[0m\n\u001b[0;32m      2\u001b[0m yf\u001b[38;5;241m.\u001b[39mpdr_override()\n\u001b[0;32m      3\u001b[0m y_symbols \u001b[38;5;241m=\u001b[39m [\u001b[38;5;124m'\u001b[39m\u001b[38;5;124mMSFT\u001b[39m\u001b[38;5;124m'\u001b[39m]\n\u001b[1;32m----> 4\u001b[0m data \u001b[38;5;241m=\u001b[39m pdr\u001b[38;5;241m.\u001b[39mget_data_yahoo(y_symbols, start\u001b[38;5;241m=\u001b[39m\u001b[43mstartdate\u001b[49m, end\u001b[38;5;241m=\u001b[39menddate)\n",
      "\u001b[1;31mNameError\u001b[0m: name 'startdate' is not defined"
     ]
    }
   ],
   "source": [
    "import yfinance as yf\n",
    "yf.pdr_override()\n",
    "y_symbols = ['MSFT']\n",
    "data = pdr.get_data_yahoo(y_symbols, start=startdate, end=enddate)"
   ]
  },
  {
   "cell_type": "code",
   "execution_count": 6,
   "id": "e6150033",
   "metadata": {},
   "outputs": [
    {
     "ename": "NameError",
     "evalue": "name 'startdate' is not defined",
     "output_type": "error",
     "traceback": [
      "\u001b[1;31m---------------------------------------------------------------------------\u001b[0m",
      "\u001b[1;31mNameError\u001b[0m                                 Traceback (most recent call last)",
      "Cell \u001b[1;32mIn[6], line 6\u001b[0m\n\u001b[0;32m      4\u001b[0m start_date \u001b[38;5;241m=\u001b[39m datetime\u001b[38;5;241m.\u001b[39mdatetime(\u001b[38;5;241m2020\u001b[39m, \u001b[38;5;241m1\u001b[39m, \u001b[38;5;241m1\u001b[39m)\n\u001b[0;32m      5\u001b[0m end_date \u001b[38;5;241m=\u001b[39m datetime\u001b[38;5;241m.\u001b[39mdatetime(\u001b[38;5;241m2022\u001b[39m, \u001b[38;5;241m1\u001b[39m, \u001b[38;5;241m1\u001b[39m)\n\u001b[1;32m----> 6\u001b[0m data \u001b[38;5;241m=\u001b[39m pdr\u001b[38;5;241m.\u001b[39mget_data_yahoo(y_symbols, start\u001b[38;5;241m=\u001b[39m\u001b[43mstartdate\u001b[49m, end\u001b[38;5;241m=\u001b[39menddate)\n",
      "\u001b[1;31mNameError\u001b[0m: name 'startdate' is not defined"
     ]
    }
   ],
   "source": [
    "from pandas_datareader import data as pdr\n",
    "import pandas as pd\n",
    "import datetime\n",
    "start_date = datetime.datetime(2020, 1, 1)\n",
    "end_date = datetime.datetime(2022, 1, 1)\n",
    "data = pdr.get_data_yahoo(y_symbols, start=startdate, end=enddate)"
   ]
  },
  {
   "cell_type": "code",
   "execution_count": 7,
   "id": "38024ef5",
   "metadata": {},
   "outputs": [
    {
     "name": "stdout",
     "output_type": "stream",
     "text": [
      "[*********************100%***********************]  1 of 1 completed\n"
     ]
    }
   ],
   "source": [
    "from pandas_datareader import data as pdr\n",
    "import pandas as pd\n",
    "import datetime\n",
    "startdate = datetime.datetime(2020, 1, 1)\n",
    "enddate = datetime.datetime(2022, 1, 1)\n",
    "data = pdr.get_data_yahoo(y_symbols, start=startdate, end=enddate)"
   ]
  },
  {
   "cell_type": "code",
   "execution_count": 8,
   "id": "5e2fe0ab",
   "metadata": {},
   "outputs": [
    {
     "data": {
      "text/html": [
       "<div>\n",
       "<style scoped>\n",
       "    .dataframe tbody tr th:only-of-type {\n",
       "        vertical-align: middle;\n",
       "    }\n",
       "\n",
       "    .dataframe tbody tr th {\n",
       "        vertical-align: top;\n",
       "    }\n",
       "\n",
       "    .dataframe thead th {\n",
       "        text-align: right;\n",
       "    }\n",
       "</style>\n",
       "<table border=\"1\" class=\"dataframe\">\n",
       "  <thead>\n",
       "    <tr style=\"text-align: right;\">\n",
       "      <th></th>\n",
       "      <th>Open</th>\n",
       "      <th>High</th>\n",
       "      <th>Low</th>\n",
       "      <th>Close</th>\n",
       "      <th>Adj Close</th>\n",
       "      <th>Volume</th>\n",
       "    </tr>\n",
       "    <tr>\n",
       "      <th>Date</th>\n",
       "      <th></th>\n",
       "      <th></th>\n",
       "      <th></th>\n",
       "      <th></th>\n",
       "      <th></th>\n",
       "      <th></th>\n",
       "    </tr>\n",
       "  </thead>\n",
       "  <tbody>\n",
       "    <tr>\n",
       "      <th>2020-01-02</th>\n",
       "      <td>158.779999</td>\n",
       "      <td>160.729996</td>\n",
       "      <td>158.330002</td>\n",
       "      <td>160.619995</td>\n",
       "      <td>156.151932</td>\n",
       "      <td>22622100</td>\n",
       "    </tr>\n",
       "    <tr>\n",
       "      <th>2020-01-03</th>\n",
       "      <td>158.320007</td>\n",
       "      <td>159.949997</td>\n",
       "      <td>158.059998</td>\n",
       "      <td>158.619995</td>\n",
       "      <td>154.207550</td>\n",
       "      <td>21116200</td>\n",
       "    </tr>\n",
       "    <tr>\n",
       "      <th>2020-01-06</th>\n",
       "      <td>157.080002</td>\n",
       "      <td>159.100006</td>\n",
       "      <td>156.509995</td>\n",
       "      <td>159.029999</td>\n",
       "      <td>154.606171</td>\n",
       "      <td>20813700</td>\n",
       "    </tr>\n",
       "    <tr>\n",
       "      <th>2020-01-07</th>\n",
       "      <td>159.320007</td>\n",
       "      <td>159.669998</td>\n",
       "      <td>157.320007</td>\n",
       "      <td>157.580002</td>\n",
       "      <td>153.196503</td>\n",
       "      <td>21634100</td>\n",
       "    </tr>\n",
       "    <tr>\n",
       "      <th>2020-01-08</th>\n",
       "      <td>158.929993</td>\n",
       "      <td>160.800003</td>\n",
       "      <td>157.949997</td>\n",
       "      <td>160.089996</td>\n",
       "      <td>155.636703</td>\n",
       "      <td>27746500</td>\n",
       "    </tr>\n",
       "    <tr>\n",
       "      <th>...</th>\n",
       "      <td>...</td>\n",
       "      <td>...</td>\n",
       "      <td>...</td>\n",
       "      <td>...</td>\n",
       "      <td>...</td>\n",
       "      <td>...</td>\n",
       "    </tr>\n",
       "    <tr>\n",
       "      <th>2021-12-27</th>\n",
       "      <td>335.459991</td>\n",
       "      <td>342.480011</td>\n",
       "      <td>335.429993</td>\n",
       "      <td>342.450012</td>\n",
       "      <td>339.270966</td>\n",
       "      <td>19947000</td>\n",
       "    </tr>\n",
       "    <tr>\n",
       "      <th>2021-12-28</th>\n",
       "      <td>343.149994</td>\n",
       "      <td>343.809998</td>\n",
       "      <td>340.320007</td>\n",
       "      <td>341.250000</td>\n",
       "      <td>338.082092</td>\n",
       "      <td>15661500</td>\n",
       "    </tr>\n",
       "    <tr>\n",
       "      <th>2021-12-29</th>\n",
       "      <td>341.299988</td>\n",
       "      <td>344.299988</td>\n",
       "      <td>339.679993</td>\n",
       "      <td>341.950012</td>\n",
       "      <td>338.775635</td>\n",
       "      <td>15042000</td>\n",
       "    </tr>\n",
       "    <tr>\n",
       "      <th>2021-12-30</th>\n",
       "      <td>341.910004</td>\n",
       "      <td>343.130005</td>\n",
       "      <td>338.820007</td>\n",
       "      <td>339.320007</td>\n",
       "      <td>336.170044</td>\n",
       "      <td>15994500</td>\n",
       "    </tr>\n",
       "    <tr>\n",
       "      <th>2021-12-31</th>\n",
       "      <td>338.510010</td>\n",
       "      <td>339.359985</td>\n",
       "      <td>335.850006</td>\n",
       "      <td>336.320007</td>\n",
       "      <td>333.197906</td>\n",
       "      <td>18000800</td>\n",
       "    </tr>\n",
       "  </tbody>\n",
       "</table>\n",
       "<p>505 rows × 6 columns</p>\n",
       "</div>"
      ],
      "text/plain": [
       "                  Open        High         Low       Close   Adj Close  \\\n",
       "Date                                                                     \n",
       "2020-01-02  158.779999  160.729996  158.330002  160.619995  156.151932   \n",
       "2020-01-03  158.320007  159.949997  158.059998  158.619995  154.207550   \n",
       "2020-01-06  157.080002  159.100006  156.509995  159.029999  154.606171   \n",
       "2020-01-07  159.320007  159.669998  157.320007  157.580002  153.196503   \n",
       "2020-01-08  158.929993  160.800003  157.949997  160.089996  155.636703   \n",
       "...                ...         ...         ...         ...         ...   \n",
       "2021-12-27  335.459991  342.480011  335.429993  342.450012  339.270966   \n",
       "2021-12-28  343.149994  343.809998  340.320007  341.250000  338.082092   \n",
       "2021-12-29  341.299988  344.299988  339.679993  341.950012  338.775635   \n",
       "2021-12-30  341.910004  343.130005  338.820007  339.320007  336.170044   \n",
       "2021-12-31  338.510010  339.359985  335.850006  336.320007  333.197906   \n",
       "\n",
       "              Volume  \n",
       "Date                  \n",
       "2020-01-02  22622100  \n",
       "2020-01-03  21116200  \n",
       "2020-01-06  20813700  \n",
       "2020-01-07  21634100  \n",
       "2020-01-08  27746500  \n",
       "...              ...  \n",
       "2021-12-27  19947000  \n",
       "2021-12-28  15661500  \n",
       "2021-12-29  15042000  \n",
       "2021-12-30  15994500  \n",
       "2021-12-31  18000800  \n",
       "\n",
       "[505 rows x 6 columns]"
      ]
     },
     "execution_count": 8,
     "metadata": {},
     "output_type": "execute_result"
    }
   ],
   "source": [
    "data"
   ]
  },
  {
   "cell_type": "code",
   "execution_count": 9,
   "id": "90ea1011",
   "metadata": {},
   "outputs": [],
   "source": [
    "data.to_csv('mfst_financial_data.csv')"
   ]
  },
  {
   "cell_type": "code",
   "execution_count": null,
   "id": "0a75e853",
   "metadata": {},
   "outputs": [],
   "source": []
  }
 ],
 "metadata": {
  "kernelspec": {
   "display_name": "Python 3 (ipykernel)",
   "language": "python",
   "name": "python3"
  },
  "language_info": {
   "codemirror_mode": {
    "name": "ipython",
    "version": 3
   },
   "file_extension": ".py",
   "mimetype": "text/x-python",
   "name": "python",
   "nbconvert_exporter": "python",
   "pygments_lexer": "ipython3",
   "version": "3.10.8"
  }
 },
 "nbformat": 4,
 "nbformat_minor": 5
}
